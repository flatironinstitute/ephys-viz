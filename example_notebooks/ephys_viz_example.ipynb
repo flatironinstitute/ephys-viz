{
 "cells": [
  {
   "cell_type": "code",
   "execution_count": null,
   "metadata": {},
   "outputs": [],
   "source": [
    "import ephys_viz_jup as ev"
   ]
  },
  {
   "cell_type": "code",
   "execution_count": null,
   "metadata": {},
   "outputs": [],
   "source": [
    "X = ev.Autocorrelograms(\n",
    "    firingsPath='sha1dir://ed0fe4de4ef2c54b7c9de420c87f9df200721b24.synth_visapy/mea_c30/set1/firings_true.mda',\n",
    "    samplerate=30000,\n",
    "    max_dt_msec=150,\n",
    "    download_from='spikeforest.public'\n",
    ")\n",
    "display(X)"
   ]
  },
  {
   "cell_type": "code",
   "execution_count": null,
   "metadata": {},
   "outputs": [],
   "source": [
    "X = ev.AnimalPosition(\n",
    "    nwb_path='sha1://a713cb31d505749f7a15c3ede21a5244a3f5a4d9/bon03.nwb',\n",
    "    download_from='spikeforest.public'\n",
    ")\n",
    "display(X)"
   ]
  },
  {
   "cell_type": "code",
   "execution_count": null,
   "metadata": {},
   "outputs": [],
   "source": [
    "X = ev.NWBBrowser(\n",
    "    path='sha1://a713cb31d505749f7a15c3ede21a5244a3f5a4d9/bon03.nwb',\n",
    "    download_from='spikeforest.public'\n",
    ")\n",
    "display(X)"
   ]
  },
  {
   "cell_type": "code",
   "execution_count": null,
   "metadata": {},
   "outputs": [],
   "source": [
    "X = ev.NWBView(\n",
    "    path='sha1://a713cb31d505749f7a15c3ede21a5244a3f5a4d9/bon03.nwb',\n",
    "    download_from='spikeforest.public'\n",
    ")\n",
    "display(X)"
   ]
  },
  {
   "cell_type": "code",
   "execution_count": null,
   "metadata": {},
   "outputs": [],
   "source": [
    "# Not sure why this one isn't displaying properly... I think it has to do with the auto sizing\n",
    "\n",
    "X = ev.ElectrodeGeometry(\n",
    "    path='sha1dir://0ba09f6658e767d4e70055773805a8d939a9a4c6.paired_mea64c/20160415_patch2/geom.csv',\n",
    "    download_from='spikeforest.public'\n",
    ")\n",
    "display(X)"
   ]
  },
  {
   "cell_type": "code",
   "execution_count": null,
   "metadata": {},
   "outputs": [],
   "source": []
  }
 ],
 "metadata": {
  "kernelspec": {
   "display_name": "Python 3",
   "language": "python",
   "name": "python3"
  },
  "language_info": {
   "codemirror_mode": {
    "name": "ipython",
    "version": 3
   },
   "file_extension": ".py",
   "mimetype": "text/x-python",
   "name": "python",
   "nbconvert_exporter": "python",
   "pygments_lexer": "ipython3",
   "version": "3.7.3"
  }
 },
 "nbformat": 4,
 "nbformat_minor": 2
}
